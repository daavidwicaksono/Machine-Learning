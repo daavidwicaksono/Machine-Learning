{
  "nbformat": 4,
  "nbformat_minor": 0,
  "metadata": {
    "colab": {
      "name": "TR KNN.ipynb",
      "provenance": [],
      "collapsed_sections": []
    },
    "kernelspec": {
      "name": "python3",
      "display_name": "Python 3"
    },
    "language_info": {
      "name": "python"
    }
  },
  "cells": [
    {
      "cell_type": "markdown",
      "metadata": {
        "id": "iISlJ9tofPKo"
      },
      "source": [
        "Import Library"
      ]
    },
    {
      "cell_type": "code",
      "metadata": {
        "id": "pESilXHe74YY"
      },
      "source": [
        "import itertools\n",
        "import numpy as np\n",
        "import matplotlib.pyplot as plt\n",
        "from matplotlib.ticker import NullFormatter\n",
        "import pandas as pd\n",
        "import matplotlib.ticker as ticker\n",
        "from sklearn import preprocessing\n",
        "from sklearn.neighbors import KNeighborsClassifier\n",
        "from sklearn import metrics"
      ],
      "execution_count": null,
      "outputs": []
    },
    {
      "cell_type": "markdown",
      "metadata": {
        "id": "jizUYzk8fUq-"
      },
      "source": [
        "Import Dataset"
      ]
    },
    {
      "cell_type": "code",
      "metadata": {
        "colab": {
          "base_uri": "https://localhost:8080/",
          "height": 223
        },
        "id": "OsHtslpQ7-fn",
        "outputId": "8045b7bf-229d-4587-f277-d64c39a18577"
      },
      "source": [
        "df = pd.read_csv('indian_liver_patient.csv')\n",
        "df.head()"
      ],
      "execution_count": null,
      "outputs": [
        {
          "output_type": "execute_result",
          "data": {
            "text/html": [
              "<div>\n",
              "<style scoped>\n",
              "    .dataframe tbody tr th:only-of-type {\n",
              "        vertical-align: middle;\n",
              "    }\n",
              "\n",
              "    .dataframe tbody tr th {\n",
              "        vertical-align: top;\n",
              "    }\n",
              "\n",
              "    .dataframe thead th {\n",
              "        text-align: right;\n",
              "    }\n",
              "</style>\n",
              "<table border=\"1\" class=\"dataframe\">\n",
              "  <thead>\n",
              "    <tr style=\"text-align: right;\">\n",
              "      <th></th>\n",
              "      <th>Age</th>\n",
              "      <th>Gender</th>\n",
              "      <th>Total_Bilirubin</th>\n",
              "      <th>Direct_Bilirubin</th>\n",
              "      <th>Alkaline_Phosphotase</th>\n",
              "      <th>Alamine_Aminotransferase</th>\n",
              "      <th>Aspartate_Aminotransferase</th>\n",
              "      <th>Total_Protiens</th>\n",
              "      <th>Albumin</th>\n",
              "      <th>Albumin_and_Globulin_Ratio</th>\n",
              "      <th>Dataset</th>\n",
              "    </tr>\n",
              "  </thead>\n",
              "  <tbody>\n",
              "    <tr>\n",
              "      <th>0</th>\n",
              "      <td>65</td>\n",
              "      <td>0</td>\n",
              "      <td>0.7</td>\n",
              "      <td>0.1</td>\n",
              "      <td>187</td>\n",
              "      <td>16</td>\n",
              "      <td>18</td>\n",
              "      <td>6.8</td>\n",
              "      <td>3.3</td>\n",
              "      <td>0.90</td>\n",
              "      <td>1</td>\n",
              "    </tr>\n",
              "    <tr>\n",
              "      <th>1</th>\n",
              "      <td>62</td>\n",
              "      <td>1</td>\n",
              "      <td>10.9</td>\n",
              "      <td>5.5</td>\n",
              "      <td>699</td>\n",
              "      <td>64</td>\n",
              "      <td>100</td>\n",
              "      <td>7.5</td>\n",
              "      <td>3.2</td>\n",
              "      <td>0.74</td>\n",
              "      <td>1</td>\n",
              "    </tr>\n",
              "    <tr>\n",
              "      <th>2</th>\n",
              "      <td>62</td>\n",
              "      <td>1</td>\n",
              "      <td>7.3</td>\n",
              "      <td>4.1</td>\n",
              "      <td>490</td>\n",
              "      <td>60</td>\n",
              "      <td>68</td>\n",
              "      <td>7.0</td>\n",
              "      <td>3.3</td>\n",
              "      <td>0.89</td>\n",
              "      <td>1</td>\n",
              "    </tr>\n",
              "    <tr>\n",
              "      <th>3</th>\n",
              "      <td>58</td>\n",
              "      <td>1</td>\n",
              "      <td>1.0</td>\n",
              "      <td>0.4</td>\n",
              "      <td>182</td>\n",
              "      <td>14</td>\n",
              "      <td>20</td>\n",
              "      <td>6.8</td>\n",
              "      <td>3.4</td>\n",
              "      <td>1.00</td>\n",
              "      <td>1</td>\n",
              "    </tr>\n",
              "    <tr>\n",
              "      <th>4</th>\n",
              "      <td>72</td>\n",
              "      <td>1</td>\n",
              "      <td>3.9</td>\n",
              "      <td>2.0</td>\n",
              "      <td>195</td>\n",
              "      <td>27</td>\n",
              "      <td>59</td>\n",
              "      <td>7.3</td>\n",
              "      <td>2.4</td>\n",
              "      <td>0.40</td>\n",
              "      <td>1</td>\n",
              "    </tr>\n",
              "  </tbody>\n",
              "</table>\n",
              "</div>"
            ],
            "text/plain": [
              "   Age  Gender  Total_Bilirubin  ...  Albumin  Albumin_and_Globulin_Ratio  Dataset\n",
              "0   65       0              0.7  ...      3.3                        0.90        1\n",
              "1   62       1             10.9  ...      3.2                        0.74        1\n",
              "2   62       1              7.3  ...      3.3                        0.89        1\n",
              "3   58       1              1.0  ...      3.4                        1.00        1\n",
              "4   72       1              3.9  ...      2.4                        0.40        1\n",
              "\n",
              "[5 rows x 11 columns]"
            ]
          },
          "metadata": {},
          "execution_count": 4
        }
      ]
    },
    {
      "cell_type": "markdown",
      "metadata": {
        "id": "lezube9Vfawr"
      },
      "source": [
        "Melihat Jumlah Dataset hanya kolom Dataset dan Jumlah Masing masing kelas"
      ]
    },
    {
      "cell_type": "code",
      "metadata": {
        "colab": {
          "base_uri": "https://localhost:8080/"
        },
        "id": "YsLzeQ5F8Uzd",
        "outputId": "d5381002-dbbd-4c93-f990-f4075fd6c805"
      },
      "source": [
        "df['Dataset'].value_counts()"
      ],
      "execution_count": null,
      "outputs": [
        {
          "output_type": "execute_result",
          "data": {
            "text/plain": [
              "1    414\n",
              "2    165\n",
              "Name: Dataset, dtype: int64"
            ]
          },
          "metadata": {},
          "execution_count": 5
        }
      ]
    },
    {
      "cell_type": "markdown",
      "metadata": {
        "id": "fbT61jFMgEPa"
      },
      "source": [
        "Melihat Kolom yang ada pada Dataset"
      ]
    },
    {
      "cell_type": "code",
      "metadata": {
        "colab": {
          "base_uri": "https://localhost:8080/"
        },
        "id": "c_xuS5-s8cKO",
        "outputId": "30d17b6b-8273-45a6-eca0-b6ab80418668"
      },
      "source": [
        "df.columns"
      ],
      "execution_count": null,
      "outputs": [
        {
          "output_type": "execute_result",
          "data": {
            "text/plain": [
              "Index(['Age', 'Gender', 'Total_Bilirubin', 'Direct_Bilirubin',\n",
              "       'Alkaline_Phosphotase', 'Alamine_Aminotransferase',\n",
              "       'Aspartate_Aminotransferase', 'Total_Protiens', 'Albumin',\n",
              "       'Albumin_and_Globulin_Ratio', 'Dataset'],\n",
              "      dtype='object')"
            ]
          },
          "metadata": {},
          "execution_count": 6
        }
      ]
    },
    {
      "cell_type": "markdown",
      "metadata": {
        "id": "x_GjY7NhhE_P"
      },
      "source": [
        "Proses merubah Pandas data frame menjadi Numpy menggunakan scikit-learn library"
      ]
    },
    {
      "cell_type": "code",
      "metadata": {
        "colab": {
          "base_uri": "https://localhost:8080/"
        },
        "id": "6XsRVq__8jQV",
        "outputId": "adc6d5b7-e56b-4f85-f885-e5e31f6f43d7"
      },
      "source": [
        "X = df[['Age', 'Gender', 'Total_Bilirubin', 'Direct_Bilirubin',\n",
        "       'Alkaline_Phosphotase', 'Alamine_Aminotransferase',\n",
        "       'Aspartate_Aminotransferase', 'Total_Protiens', 'Albumin',\n",
        "       'Albumin_and_Globulin_Ratio']] .values  #.astype(float)\n",
        "X[0:5]"
      ],
      "execution_count": null,
      "outputs": [
        {
          "output_type": "execute_result",
          "data": {
            "text/plain": [
              "array([[6.50e+01, 0.00e+00, 7.00e-01, 1.00e-01, 1.87e+02, 1.60e+01,\n",
              "        1.80e+01, 6.80e+00, 3.30e+00, 9.00e-01],\n",
              "       [6.20e+01, 1.00e+00, 1.09e+01, 5.50e+00, 6.99e+02, 6.40e+01,\n",
              "        1.00e+02, 7.50e+00, 3.20e+00, 7.40e-01],\n",
              "       [6.20e+01, 1.00e+00, 7.30e+00, 4.10e+00, 4.90e+02, 6.00e+01,\n",
              "        6.80e+01, 7.00e+00, 3.30e+00, 8.90e-01],\n",
              "       [5.80e+01, 1.00e+00, 1.00e+00, 4.00e-01, 1.82e+02, 1.40e+01,\n",
              "        2.00e+01, 6.80e+00, 3.40e+00, 1.00e+00],\n",
              "       [7.20e+01, 1.00e+00, 3.90e+00, 2.00e+00, 1.95e+02, 2.70e+01,\n",
              "        5.90e+01, 7.30e+00, 2.40e+00, 4.00e-01]])"
            ]
          },
          "metadata": {},
          "execution_count": 7
        }
      ]
    },
    {
      "cell_type": "code",
      "metadata": {
        "colab": {
          "base_uri": "https://localhost:8080/"
        },
        "id": "7jOFWdZS9Erg",
        "outputId": "c4c2945d-c440-4710-c3e2-0056dfca7ccb"
      },
      "source": [
        "y = df['Dataset'].values\n",
        "y[0:5]"
      ],
      "execution_count": null,
      "outputs": [
        {
          "output_type": "execute_result",
          "data": {
            "text/plain": [
              "array([1, 1, 1, 1, 1])"
            ]
          },
          "metadata": {},
          "execution_count": 9
        }
      ]
    },
    {
      "cell_type": "markdown",
      "metadata": {
        "id": "4VsGd49jhuGS"
      },
      "source": [
        "Normalisasi Data"
      ]
    },
    {
      "cell_type": "code",
      "metadata": {
        "colab": {
          "base_uri": "https://localhost:8080/"
        },
        "id": "gwiGPNsd9LJQ",
        "outputId": "fb29b276-a39d-49c2-bc6b-b62b2c9c0d3e"
      },
      "source": [
        "X = preprocessing.StandardScaler().fit(X).transform(X.astype(float))\n",
        "X[0:5]"
      ],
      "execution_count": null,
      "outputs": [
        {
          "output_type": "execute_result",
          "data": {
            "text/plain": [
              "array([[ 1.24740264, -1.77079482, -0.42031984, -0.49541415, -0.42887006,\n",
              "        -0.35583241, -0.31911128,  0.29372174,  0.20344649, -0.14738974],\n",
              "       [ 1.06230624,  0.56471817,  1.21893587,  1.42351783,  1.67508295,\n",
              "        -0.09357256, -0.03596174,  0.93965456,  0.07746198, -0.64846078],\n",
              "       [ 1.06230624,  0.56471817,  0.64037503,  0.92601694,  0.81624275,\n",
              "        -0.11542755, -0.14645913,  0.47827397,  0.20344649, -0.17870668],\n",
              "       [ 0.81551105,  0.56471817, -0.37210644, -0.38880682, -0.44941648,\n",
              "        -0.3667599 , -0.3122052 ,  0.29372174,  0.329431  ,  0.16577966],\n",
              "       [ 1.67929422,  0.56471817,  0.09395646,  0.17976562, -0.3959958 ,\n",
              "        -0.29573119, -0.17753651,  0.75510233, -0.9304141 , -1.71323673]])"
            ]
          },
          "metadata": {},
          "execution_count": 10
        }
      ]
    },
    {
      "cell_type": "markdown",
      "metadata": {
        "id": "0T57E8PxiBl6"
      },
      "source": [
        "Memisahkan Data Training dan Data Testing"
      ]
    },
    {
      "cell_type": "code",
      "metadata": {
        "colab": {
          "base_uri": "https://localhost:8080/"
        },
        "id": "xlmAbYDp9Nbi",
        "outputId": "a6b91445-c811-446f-c776-166c53206487"
      },
      "source": [
        "from sklearn.model_selection import train_test_split\n",
        "X_train, X_test, y_train, y_test = train_test_split( X, y, test_size=0.2, random_state=4)\n",
        "print ('Train set:', X_train.shape,  y_train.shape)\n",
        "print ('Test set:', X_test.shape,  y_test.shape)"
      ],
      "execution_count": null,
      "outputs": [
        {
          "output_type": "stream",
          "name": "stdout",
          "text": [
            "Train set: (463, 10) (463,)\n",
            "Test set: (116, 10) (116,)\n"
          ]
        }
      ]
    },
    {
      "cell_type": "markdown",
      "metadata": {
        "id": "6tyT16t-iStC"
      },
      "source": [
        "# Penerapan KNN"
      ]
    },
    {
      "cell_type": "markdown",
      "metadata": {
        "id": "KQ3iMNuXiZgJ"
      },
      "source": [
        "Fase Training"
      ]
    },
    {
      "cell_type": "code",
      "metadata": {
        "colab": {
          "base_uri": "https://localhost:8080/"
        },
        "id": "R8Uv_Apf9TL9",
        "outputId": "23a345e7-1e18-4ffb-c794-96850fb9fb12"
      },
      "source": [
        "k = 5\n",
        "#Train Model and Predict  \n",
        "neigh = KNeighborsClassifier(n_neighbors = k).fit(X_train,y_train)\n",
        "neigh"
      ],
      "execution_count": null,
      "outputs": [
        {
          "output_type": "execute_result",
          "data": {
            "text/plain": [
              "KNeighborsClassifier(algorithm='auto', leaf_size=30, metric='minkowski',\n",
              "                     metric_params=None, n_jobs=None, n_neighbors=5, p=2,\n",
              "                     weights='uniform')"
            ]
          },
          "metadata": {},
          "execution_count": 12
        }
      ]
    },
    {
      "cell_type": "markdown",
      "metadata": {
        "id": "HgZFyLLHijyh"
      },
      "source": [
        "Fase Testing"
      ]
    },
    {
      "cell_type": "code",
      "metadata": {
        "id": "JHlCP7279XJd",
        "colab": {
          "base_uri": "https://localhost:8080/"
        },
        "outputId": "42e04863-3dad-4c1a-f9c8-22f3d895f95e"
      },
      "source": [
        "yhat = neigh.predict(X_test)\n",
        "yhat[0:50]"
      ],
      "execution_count": null,
      "outputs": [
        {
          "output_type": "execute_result",
          "data": {
            "text/plain": [
              "array([2, 1, 1, 2, 1, 1, 1, 1, 2, 2, 1, 2, 1, 1, 2, 1, 1, 2, 1, 1, 1, 1,\n",
              "       2, 1, 1, 2, 2, 2, 1, 1, 1, 1, 1, 1, 1, 1, 1, 2, 2, 2, 1, 2, 1, 2,\n",
              "       1, 1, 2, 1, 1, 1])"
            ]
          },
          "metadata": {},
          "execution_count": 13
        }
      ]
    },
    {
      "cell_type": "markdown",
      "metadata": {
        "id": "MANZhcpAinbp"
      },
      "source": [
        "Menghitung Akurasi "
      ]
    },
    {
      "cell_type": "code",
      "metadata": {
        "id": "zeK-d78s9Yu6",
        "colab": {
          "base_uri": "https://localhost:8080/"
        },
        "outputId": "4f4d57e4-48df-468f-ce05-5149c767c8b9"
      },
      "source": [
        "print(\"Train set Accuracy: \", metrics.accuracy_score(y_train, neigh.predict(X_train)))\n",
        "print(\"Test set Accuracy: \", metrics.accuracy_score(y_test, yhat))"
      ],
      "execution_count": null,
      "outputs": [
        {
          "output_type": "stream",
          "name": "stdout",
          "text": [
            "Train set Accuracy:  0.7883369330453563\n",
            "Test set Accuracy:  0.6896551724137931\n"
          ]
        }
      ]
    }
  ]
}